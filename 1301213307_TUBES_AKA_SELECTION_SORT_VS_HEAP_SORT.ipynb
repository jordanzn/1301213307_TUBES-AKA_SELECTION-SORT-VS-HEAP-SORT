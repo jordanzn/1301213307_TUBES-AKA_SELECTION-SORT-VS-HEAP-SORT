{
  "cells": [
    {
      "cell_type": "code",
      "execution_count": null,
      "metadata": {
        "id": "w-upl4v4KrIl"
      },
      "outputs": [],
      "source": [
        "import time  # Mengimpor modul untuk mengukur waktu eksekusi\n",
        "import random  # Mengimpor modul untuk menghasilkan angka acak"
      ]
    },
    {
      "cell_type": "code",
      "execution_count": null,
      "metadata": {
        "id": "8cj4NR71KuLI"
      },
      "outputs": [],
      "source": [
        "# Selection Sort Implementation\n",
        "def selection_sort(arr):\n",
        "    # Fungsi untuk melakukan sorting menggunakan Selection Sort\n",
        "    n = len(arr)  # Mengambil panjang array\n",
        "    for i in range(n):  # Loop melalui setiap elemen dalam array\n",
        "        min_idx = i  # Asumsikan elemen ke-i adalah yang terkecil\n",
        "        for j in range(i + 1, n):  # Cari elemen yang lebih kecil dari elemen ke-i\n",
        "            if arr[j] < arr[min_idx]:  # Jika elemen ke-j lebih kecil, perbarui indeks minimum\n",
        "                min_idx = j\n",
        "        arr[i], arr[min_idx] = arr[min_idx], arr[i]  # Tukar elemen terkecil dengan elemen ke-i\n",
        "    return arr  # Kembalikan array yang sudah terurut"
      ]
    },
    {
      "cell_type": "code",
      "execution_count": null,
      "metadata": {
        "id": "L_t70PrxKwRU"
      },
      "outputs": [],
      "source": [
        "# Heap Sort Implementation\n",
        "def heapify(arr, n, i):\n",
        "    # Fungsi untuk menjaga struktur heap\n",
        "    largest = i  # Asumsikan elemen ke-i adalah yang terbesar\n",
        "    left = 2 * i + 1  # Indeks anak kiri\n",
        "    right = 2 * i + 2  # Indeks anak kanan\n",
        "\n",
        "    if left < n and arr[left] > arr[largest]:  # Jika anak kiri lebih besar, perbarui terbesar\n",
        "        largest = left\n",
        "\n",
        "    if right < n and arr[right] > arr[largest]:  # Jika anak kanan lebih besar, perbarui terbesar\n",
        "        largest = right\n",
        "\n",
        "    if largest != i:  # Jika elemen ke-i bukan yang terbesar\n",
        "        arr[i], arr[largest] = arr[largest], arr[i]  # Tukar elemen dengan elemen terbesar\n",
        "        heapify(arr, n, largest)  # Lanjutkan heapify secara rekursif"
      ]
    },
    {
      "cell_type": "code",
      "execution_count": null,
      "metadata": {
        "id": "EpFquhvLKy31"
      },
      "outputs": [],
      "source": [
        "def heap_sort(arr):\n",
        "    # Fungsi untuk melakukan sorting menggunakan Heap Sort\n",
        "    n = len(arr)  # Mengambil panjang array\n",
        "\n",
        "    for i in range(n // 2 - 1, -1, -1):  # Membentuk struktur heap (heapify dari bawah ke atas)\n",
        "        heapify(arr, n, i)\n",
        "\n",
        "    for i in range(n - 1, 0, -1):  # Ekstraksi elemen satu per satu dari heap\n",
        "        arr[i], arr[0] = arr[0], arr[i]  # Tukar elemen akar dengan elemen terakhir\n",
        "        heapify(arr, i, 0)  # Heapify elemen yang tersisa\n",
        "    return arr  # Kembalikan array yang sudah terurut"
      ]
    },
    {
      "cell_type": "code",
      "execution_count": null,
      "metadata": {
        "id": "JbUA6H1VK1Y1"
      },
      "outputs": [],
      "source": [
        "# Performance Comparison\n",
        "def compare_algorithms(array_sizes):\n",
        "    # Fungsi untuk membandingkan waktu eksekusi Selection Sort dan Heap Sort\n",
        "    for size in array_sizes:  # Loop untuk setiap ukuran array yang diuji\n",
        "        arr = [random.randint(0, 1000) for _ in range(size)]  # Generate array dengan angka acak\n",
        "\n",
        "        # Copy array untuk memastikan kondisi awal sama\n",
        "        arr_selection = arr[:]\n",
        "        arr_heap = arr[:]\n",
        "\n",
        "        # Selection Sort Timing\n",
        "        start = time.time()  # Mulai pengukuran waktu\n",
        "        selection_sort(arr_selection)  # Jalankan Selection Sort\n",
        "        selection_time = time.time() - start  # Hitung waktu eksekusi\n",
        "\n",
        "        # Heap Sort Timing\n",
        "        start = time.time()  # Mulai pengukuran waktu\n",
        "        heap_sort(arr_heap)  # Jalankan Heap Sort\n",
        "        heap_time = time.time() - start  # Hitung waktu eksekusi\n",
        "\n",
        "        # Tampilkan hasil\n",
        "        print(f\"Array Size: {size}\")  # Ukuran array\n",
        "        print(f\"Selection Sort Time: {selection_time:.6f} seconds\")  # Waktu eksekusi Selection Sort\n",
        "        print(f\"Heap Sort Time: {heap_time:.6f} seconds\")  # Waktu eksekusi Heap Sort\n",
        "        print(\"-\" * 30)  # Garis pemisah"
      ]
    },
    {
      "cell_type": "code",
      "execution_count": null,
      "metadata": {
        "colab": {
          "background_save": true,
          "base_uri": "https://localhost:8080/"
        },
        "id": "wjK7zdJaLTTc",
        "outputId": "c9fb9b1a-b990-49e4-8098-463055c0523b"
      },
      "outputs": [
        {
          "name": "stdout",
          "output_type": "stream",
          "text": [
            "Array Size: 30000\n",
            "Selection Sort Time: 25.096551 seconds\n",
            "Heap Sort Time: 0.137772 seconds\n",
            "------------------------------\n",
            "Array Size: 60000\n",
            "Selection Sort Time: 121.910823 seconds\n",
            "Heap Sort Time: 0.338649 seconds\n",
            "------------------------------\n",
            "Array Size: 120000\n",
            "Selection Sort Time: 510.374930 seconds\n",
            "Heap Sort Time: 0.726458 seconds\n",
            "------------------------------\n",
            "Array Size: 240000\n",
            "Selection Sort Time: 2352.140254 seconds\n",
            "Heap Sort Time: 1.474986 seconds\n",
            "------------------------------\n"
          ]
        }
      ],
      "source": [
        "# Test with increasing array sizes\n",
        "array_sizes = [30000, 60000, 120000, 240000, 480000]  # Ukuran array untuk pengujian\n",
        "compare_algorithms(array_sizes)  # Jalankan pengujian"
      ]
    }
  ],
  "metadata": {
    "colab": {
      "provenance": []
    },
    "kernelspec": {
      "display_name": "Python 3",
      "name": "python3"
    },
    "language_info": {
      "name": "python"
    }
  },
  "nbformat": 4,
  "nbformat_minor": 0
}